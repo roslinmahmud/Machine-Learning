{
 "nbformat": 4,
 "nbformat_minor": 2,
 "metadata": {
  "language_info": {
   "name": "python",
   "codemirror_mode": {
    "name": "ipython",
    "version": 3
   },
   "version": "3.7.0-final"
  },
  "orig_nbformat": 2,
  "file_extension": ".py",
  "mimetype": "text/x-python",
  "name": "python",
  "npconvert_exporter": "python",
  "pygments_lexer": "ipython3",
  "version": 3,
  "kernelspec": {
   "name": "python37064bit8a9912b8f41743feab6587cc778f80ec",
   "display_name": "Python 3.7.0 64-bit"
  }
 },
 "cells": [
  {
   "cell_type": "code",
   "execution_count": 357,
   "metadata": {},
   "outputs": [],
   "source": [
    "import pandas as pd\n",
    "import numpy as np\n",
    "from scipy.spatial.distance import euclidean\n",
    "from sklearn.neighbors import KNeighborsClassifier\n",
    "from sklearn.model_selection import train_test_split\n",
    "from sklearn.preprocessing import MinMaxScaler\n",
    "from sklearn.metrics import precision_score, recall_score"
   ]
  },
  {
   "cell_type": "code",
   "execution_count": 358,
   "metadata": {},
   "outputs": [],
   "source": [
    "# Creating custom KNN classifier\n",
    "class kNN:\n",
    "    def fit(self, x_train, y_train):\n",
    "        self.x_train = np.array(x_train)\n",
    "        self.y_train = np.array(y_train)\n",
    "    def predict(self, x_test):\n",
    "        x_test = np.array(x_test)\n",
    "        predictions = np.empty(len(x_test), dtype=y_train[0].dtype)\n",
    "        for t, test in enumerate(x_test):\n",
    "            ind = 0 \n",
    "            dis = euclidean(x_test[0] , self.x_train[0])\n",
    "            for i, train in enumerate(self.x_train):\n",
    "                tt_dis = euclidean(test,train)\n",
    "                if tt_dis < dis:\n",
    "                    dis = tt_dis\n",
    "                    ind = i\n",
    "            predictions[t] = self.y_train[ind]\n",
    "        return predictions"
   ]
  },
  {
   "cell_type": "code",
   "execution_count": 359,
   "metadata": {},
   "outputs": [],
   "source": [
    "#1 Loading dataset & labeling the features\n",
    "df = pd.read_csv('data_banknote_authentication.txt', \n",
    "    names=['variance', 'skewness', 'curtosis', 'entropy', 'class'])"
   ]
  },
  {
   "cell_type": "code",
   "execution_count": 360,
   "metadata": {},
   "outputs": [],
   "source": [
    "#2 Processing data for Spliting & Training\n",
    "X = df[['variance', 'skewness', 'curtosis', 'entropy']]\n",
    "Y = df['class']"
   ]
  },
  {
   "cell_type": "code",
   "execution_count": 361,
   "metadata": {},
   "outputs": [],
   "source": [
    "#2 Spliting the data into train, test parts\n",
    "X_train, X_test, y_train, y_test = train_test_split(X, Y, test_size=0.2)"
   ]
  },
  {
   "cell_type": "code",
   "execution_count": 362,
   "metadata": {},
   "outputs": [],
   "source": [
    "#3 Scaling data in range(0-1) for better performance/prediction\n",
    "X_train =pd.DataFrame(MinMaxScaler().fit_transform(X_train),columns=X_train.columns)\n",
    "X_test =pd.DataFrame(MinMaxScaler().fit_transform(X_test),columns=X_test.columns)"
   ]
  },
  {
   "cell_type": "code",
   "execution_count": 363,
   "metadata": {},
   "outputs": [],
   "source": [
    "#4 importing k-nearest neighbors classifier(Sklearn)\n",
    "KNN = KNeighborsClassifier()"
   ]
  },
  {
   "cell_type": "code",
   "execution_count": 364,
   "metadata": {},
   "outputs": [
    {
     "output_type": "stream",
     "name": "stdout",
     "text": "[1 0 0 1 0 1 1 0 1 1 1 0 1 1 0 0 0 0 0 0 0 1 0 1 0 1 0 0 0 0 1 0 1 1 0 0 0\n 1 0 1 0 0 0 0 0 1 0 0 0 0 0 0 0 0 0 1 1 0 0 1 1 1 0 1 1 1 0 0 0 0 0 1 0 1\n 1 1 0 0 0 1 1 1 1 0 0 0 1 1 1 0 0 0 0 0 0 0 1 0 1 1 0 0 0 0 0 0 0 1 1 0 1\n 0 1 0 0 0 1 0 1 1 1 1 0 1 0 0 0 1 1 0 0 1 1 0 1 0 1 1 1 0 1 0 0 1 0 0 0 0\n 0 0 1 0 1 0 1 0 0 1 0 0 1 0 0 0 1 1 1 0 1 1 0 0 0 0 0 0 1 1 0 1 1 0 0 0 0\n 1 1 1 1 1 0 0 0 0 1 1 0 1 1 1 1 0 0 1 0 1 0 0 0 0 1 1 0 1 1 0 0 1 1 0 1 0\n 1 0 0 1 1 1 0 0 0 0 1 1 0 0 1 1 0 1 0 0 0 0 0 0 0 0 0 1 1 1 0 0 0 0 1 1 1\n 0 1 0 0 0 1 1 0 0 0 0 1 1 0 0 1]\n"
    }
   ],
   "source": [
    "#4 training the classifier\n",
    "KNN.fit(X_train, y_train)\n",
    "# Predictions of the classifier\n",
    "predictions = KNN.predict(X_test)\n",
    "print(predictions)"
   ]
  },
  {
   "cell_type": "code",
   "execution_count": 365,
   "metadata": {},
   "outputs": [
    {
     "output_type": "execute_result",
     "data": {
      "text/plain": "1.0"
     },
     "metadata": {},
     "execution_count": 365
    }
   ],
   "source": [
    "#5 precision accuracy of Sklearn KNN\n",
    "precision_score(y_test, predictions)"
   ]
  },
  {
   "cell_type": "code",
   "execution_count": 366,
   "metadata": {},
   "outputs": [
    {
     "output_type": "execute_result",
     "data": {
      "text/plain": "1.0"
     },
     "metadata": {},
     "execution_count": 366
    }
   ],
   "source": [
    "# recall_score of KNN\n",
    "recall_score(y_test, predictions)"
   ]
  },
  {
   "cell_type": "code",
   "execution_count": 367,
   "metadata": {},
   "outputs": [],
   "source": [
    "#4 importing k-nearest neighbors classifier(Custom)\n",
    "kNN = kNN()"
   ]
  },
  {
   "cell_type": "code",
   "execution_count": 368,
   "metadata": {},
   "outputs": [
    {
     "output_type": "stream",
     "name": "stdout",
     "text": "[1 0 0 1 0 1 1 0 1 1 1 0 1 1 0 0 0 0 0 0 0 1 0 1 0 1 0 0 0 0 1 0 1 1 0 0 0\n 1 0 1 0 0 0 0 0 1 0 0 0 0 0 0 0 0 0 1 1 0 0 1 1 1 0 1 1 1 0 0 0 0 0 1 0 1\n 1 1 0 0 0 1 1 1 1 0 0 0 1 1 1 0 0 0 0 0 0 0 1 0 1 1 0 0 0 0 0 0 0 1 1 0 1\n 0 1 0 0 0 1 0 1 1 1 1 0 1 0 0 0 1 1 0 0 1 1 0 1 0 1 1 1 0 1 0 0 1 0 0 0 0\n 0 0 1 0 1 0 1 0 0 1 0 0 1 0 0 0 1 1 1 0 1 1 0 0 0 0 0 0 1 1 0 1 1 0 0 0 0\n 1 1 1 1 1 0 0 0 0 1 1 0 1 1 1 1 0 0 1 0 1 0 0 0 0 1 1 0 1 1 0 0 1 1 0 1 0\n 1 0 0 1 1 1 0 0 0 0 1 1 0 0 1 1 0 1 0 0 0 0 0 0 0 0 0 1 1 1 0 0 0 0 1 1 1\n 0 1 0 0 0 1 1 0 0 0 0 1 1 0 0 1]\n"
    }
   ],
   "source": [
    "#4 training the classifier\n",
    "kNN.fit(X_train, y_train)\n",
    "# Predictions of the classifier\n",
    "predictions = kNN.predict(X_test)\n",
    "print(predictions)"
   ]
  },
  {
   "cell_type": "code",
   "execution_count": 369,
   "metadata": {},
   "outputs": [
    {
     "output_type": "execute_result",
     "data": {
      "text/plain": "1.0"
     },
     "metadata": {},
     "execution_count": 369
    }
   ],
   "source": [
    "#5 precision accuracy of custom KNN\n",
    "precision_score(y_test, predictions)"
   ]
  }
 ]
}