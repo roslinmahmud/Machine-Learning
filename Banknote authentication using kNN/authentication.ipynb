{
 "cells": [
  {
   "cell_type": "markdown",
   "metadata": {},
   "source": [
    "# Report on:\n",
    "## Bank Note Authentication using KNN\n",
    "\n",
    "### Course:\n",
    "- PROGRAMMING IN PYTHON \n",
    "\n",
    "### Course Teacher:\n",
    "- DR. MD. MAHBUB CHOWDHURY MISHU\n",
    "\n",
    "### Group Member:\n",
    "- Roslin Mahmud Joy 17-34328-1\n",
    "- Rohan, Samiul Islam 17-34280-1\n",
    "- Riyan, Md Rafeu 17-33977-1"
   ]
  },
  {
   "cell_type": "markdown",
   "metadata": {},
   "source": [
    "## A. Background of the problem\n",
    "<p>Banknotes are one of the most important assets of a country. Some miscreants introduce fake notes which bear a resemblance to original note to create discrepancies of the money in the financial market. It is difficult for humans to tell true and fake banknotes apart especially because they have a lot of similar features. There has been a drastic increase in the rate of fake notes in the market. Fake money is an imitation of the genuine notes and is created illegally for various motives. These fake notes are created in all denominations which brings the financial market of the country to a low level. The various advancements in the field of scanners and copy machines have led the miscreants to create copies of banknotes. It is difficult for human-eye to recognize a fake note because they are created with great accuracy to look alike a genuine note. Security aspects of banknotes have to be considered and security features are to be introduced to mitigate fake currency. Hence, there is a dire need in banks and ATM machines to implement a system that classifies a note as genuine or fake. In the recent years, Soft computing techniques have been widely used to solve problems that are difficult to solve using conventional mathematical methods. Supervised learning techniques are widely used in classification problems. This paper evaluates supervised machine learning algorithms to classify genuine and fake notes, and compares algorithms on the basis of accuracy, sensitivity, and specificity. Consider someone wants to deposit money in the bank. The notes that are to be deposited are given to a human being to check for their authenticity. As the fake notes are prepared with precision, it is difficult to differentiate them from genuine ones. A recognition system must be installed to detect legitimacy of the note. The system should extract the features of the note using image processing techniques. These features will be given as input to the machine learning algorithm which will predict if the note is true or fake. Supervised machine learning techniques such as BPN and SVM were implemented. The dataset used to train these algorithms was collected by extracting features from banknote images. The dataset also classifies all the samples into a particular class i.e. genuine or forged. A comparative study of these techniques with respect to their accuracy, sensitivity, specificity and precision rate is shown.</p>"
   ]
  },
  {
   "cell_type": "markdown",
   "metadata": {},
   "source": [
    "## B. Dataset Description\n",
    "The dataset used to train the models is taken from UCI machine learning repository . Data were extracted from genuine and counterfeit banknote images. The dataset has 1372 instances. There are 5 attributes out of which 4 are the features and one is the target attribute. The dataset contains a balanced ratio of both classes which is 55:45(genuine: counterfeit). The target class contains two values: 0 and 1 where 0 represents genuine note and 1 represents fake note. Dataset description are given below according to attribute name:\n",
    "\n",
    "**Variance of Wavelet Transformed Image:** This attribute is continuous type. This attribute finds how each pixel varies from the neighboring pixels and classifies them into different regions.\n",
    "\n",
    "**Skewness of Wavelet Transformed image:** This attribute is continuous type. Skewness is the measure of the lack of symmetry.\n",
    "\n",
    "**Kurtosis of Wavelet Transformed image:** This is continuous type attribute. Kurtosis is a measure of whether the data are heavytailed or light-tailed relative to a normal distribution.\n",
    "\n",
    "**Entropy of image:** This is also a continuous type attribute. Image entropy is a quantity which is used to describe the amount of information which must be coded for, by a compression algorithm.\n",
    "\n",
    "**Class:** This is integer type variable. Class contains two values 0 representing genuine note and 1 representing fake note.\n"
   ]
  },
  {
   "cell_type": "markdown",
   "metadata": {},
   "source": [
    "## C. Explanation of KNN Algorithm\n",
    "\n",
    "### Introduction\n",
    "K-nearest neighbors (KNN) algorithm is a type of supervised ML algorithm which can be used for both classification as well as regression predictive problems. However, it is mainly used for classification predictive problems in industry.\n",
    "\n",
    "### Working of KNN Algorithm\n",
    "K-nearest neighbors (KNN) algorithm uses ‘feature similarity’ to predict the values of new datapoints which further means that the new data point will be assigned a value based on how closely it matches the points in the training set. We can understand its working with the help of following steps −\n",
    "\n",
    "**Step 1** − For implementing any algorithm, we need dataset. So during the first step of KNN, we must load the training as well as test data.\n",
    "\n",
    "**Step 2** − Next, we need to choose the value of K i.e. the nearest data points. K can be any integer.\n",
    "\n",
    "**Step 3** − For each point in the test data do the following −\n",
    "\n",
    "*3.1* − Calculate the distance between test data and each row of training data with the help of any of the method namely: Euclidean, Manhattan or Hamming distance. The most commonly used method to calculate distance is Euclidean.\n",
    "\n",
    "*3.2* − Now, based on the distance value, sort them in ascending order.\n",
    "\n",
    "*3.3* − Next, it will choose the top K rows from the sorted array.\n",
    "\n",
    "*3.4* − Now, it will assign a class to the test point based on most frequent class of these rows.\n",
    "\n",
    "**Step 4** − End"
   ]
  },
  {
   "cell_type": "markdown",
   "metadata": {},
   "source": [
    "## D. Implementation of the case in python"
   ]
  },
  {
   "cell_type": "code",
   "execution_count": 33,
   "metadata": {},
   "outputs": [],
   "source": [
    "import pandas as pd\n",
    "%matplotlib inline\n",
    "import matplotlib.pyplot as plt\n",
    "plt.style.use('seaborn-whitegrid')\n",
    "import numpy as np\n",
    "from scipy.spatial.distance import euclidean\n",
    "from sklearn.neighbors import KNeighborsClassifier\n",
    "from sklearn.model_selection import train_test_split\n",
    "from sklearn.preprocessing import MinMaxScaler\n",
    "from sklearn.metrics import precision_score, recall_score"
   ]
  },
  {
   "cell_type": "code",
   "execution_count": 34,
   "metadata": {},
   "outputs": [],
   "source": [
    "# Creating custom KNN classifier\n",
    "class kNN:\n",
    "    def fit(self, x_train, y_train):\n",
    "        self.x_train = np.array(x_train)\n",
    "        self.y_train = np.array(y_train)\n",
    "    def predict(self, x_test):\n",
    "        x_test = np.array(x_test)\n",
    "        predictions = np.empty(len(x_test), dtype=y_train[0].dtype)\n",
    "        for t, test in enumerate(x_test):\n",
    "            ind = 0 \n",
    "            dis = euclidean(x_test[0] , self.x_train[0])\n",
    "            for i, train in enumerate(self.x_train):\n",
    "                tt_dis = euclidean(test,train)\n",
    "                if tt_dis < dis:\n",
    "                    dis = tt_dis\n",
    "                    ind = i\n",
    "            predictions[t] = self.y_train[ind]\n",
    "        return predictions"
   ]
  },
  {
   "cell_type": "code",
   "execution_count": 35,
   "metadata": {},
   "outputs": [],
   "source": [
    "#1 Loading dataset & labeling the features\n",
    "df = pd.read_csv('data_banknote_authentication.txt', \n",
    "    names=['variance', 'skewness', 'curtosis', 'entropy', 'class'])"
   ]
  },
  {
   "cell_type": "code",
   "execution_count": 36,
   "metadata": {},
   "outputs": [],
   "source": [
    "#2 Processing data for Spliting & Training\n",
    "X = df[['variance', 'skewness', 'curtosis', 'entropy']]\n",
    "Y = df['class']"
   ]
  },
  {
   "cell_type": "code",
   "execution_count": 37,
   "metadata": {},
   "outputs": [],
   "source": [
    "#2 Spliting the data into train, test parts\n",
    "X_train, X_test, y_train, y_test = train_test_split(X, Y, test_size=0.2)"
   ]
  },
  {
   "cell_type": "code",
   "execution_count": 38,
   "metadata": {},
   "outputs": [],
   "source": [
    "#3 Scaling data in range(0-1) for better performance/prediction\n",
    "X_train =pd.DataFrame(MinMaxScaler().fit_transform(X_train),columns=X_train.columns)\n",
    "X_test =pd.DataFrame(MinMaxScaler().fit_transform(X_test),columns=X_test.columns)"
   ]
  },
  {
   "cell_type": "code",
   "execution_count": 39,
   "metadata": {},
   "outputs": [],
   "source": [
    "#4 importing k-nearest neighbors classifier(Sklearn)\n",
    "KNN = KNeighborsClassifier()"
   ]
  },
  {
   "cell_type": "code",
   "execution_count": 40,
   "metadata": {},
   "outputs": [
    {
     "name": "stdout",
     "output_type": "stream",
     "text": [
      "[0 1 0 0 1 0 0 0 0 0 1 0 0 0 0 0 1 0 1 0 0 0 0 0 0 1 1 0 0 0 1 0 1 1 0 1 0\n",
      " 0 0 1 0 1 0 1 0 0 1 1 0 1 0 0 1 0 1 0 0 1 0 0 0 0 1 1 0 0 0 1 1 0 1 1 0 1\n",
      " 1 0 0 0 0 1 0 0 1 1 0 1 1 1 0 1 1 1 1 1 1 0 0 1 1 0 1 1 1 0 0 0 0 0 0 1 1\n",
      " 0 0 0 0 0 1 1 1 1 1 1 1 1 1 1 1 0 1 1 0 1 1 1 0 1 0 1 0 1 0 0 1 0 1 1 0 0\n",
      " 1 0 1 1 0 0 1 0 0 0 0 0 1 0 0 0 1 1 0 0 1 1 0 0 0 0 0 1 1 1 0 1 1 0 0 0 1\n",
      " 1 0 1 1 1 1 0 0 0 0 1 0 0 0 0 0 1 0 0 0 1 0 0 1 0 0 1 0 0 1 1 1 0 0 1 1 1\n",
      " 0 0 1 1 1 0 1 1 0 0 1 0 0 1 0 0 1 0 0 1 1 1 0 1 1 1 0 1 1 1 0 0 1 0 0 1 0\n",
      " 1 0 0 1 1 1 0 0 0 0 1 0 0 0 1 0]\n"
     ]
    }
   ],
   "source": [
    "#4 training the classifier\n",
    "KNN.fit(X_train, y_train)\n",
    "# Predictions of the classifier\n",
    "predictions = KNN.predict(X_test)\n",
    "print(predictions)"
   ]
  },
  {
   "cell_type": "code",
   "execution_count": 41,
   "metadata": {},
   "outputs": [
    {
     "data": {
      "text/plain": [
       "1.0"
      ]
     },
     "execution_count": 41,
     "metadata": {},
     "output_type": "execute_result"
    }
   ],
   "source": [
    "#5 precision accuracy of Sklearn KNN\n",
    "precision_score(y_test, predictions)"
   ]
  },
  {
   "cell_type": "code",
   "execution_count": 42,
   "metadata": {},
   "outputs": [
    {
     "data": {
      "text/plain": [
       "1.0"
      ]
     },
     "execution_count": 42,
     "metadata": {},
     "output_type": "execute_result"
    }
   ],
   "source": [
    "# recall_score of KNN\n",
    "recall_score(y_test, predictions)"
   ]
  },
  {
   "cell_type": "code",
   "execution_count": 43,
   "metadata": {},
   "outputs": [],
   "source": [
    "#4 importing k-nearest neighbors classifier(Custom)\n",
    "kNN = kNN()"
   ]
  },
  {
   "cell_type": "code",
   "execution_count": 44,
   "metadata": {},
   "outputs": [
    {
     "name": "stdout",
     "output_type": "stream",
     "text": [
      "[0 1 0 0 1 0 0 0 0 0 1 0 0 0 0 0 1 0 1 0 0 0 0 0 0 1 1 0 0 0 1 0 1 1 0 1 0\n",
      " 0 0 1 0 1 0 1 0 0 1 1 0 1 0 0 1 0 1 0 0 1 0 0 0 0 1 1 0 0 0 1 1 0 1 1 0 1\n",
      " 1 0 0 0 0 1 0 0 1 1 0 1 1 1 0 1 1 1 1 1 1 0 0 1 1 0 1 1 1 0 0 0 0 0 0 1 1\n",
      " 0 0 0 0 0 1 1 1 1 1 1 1 1 1 1 1 0 1 1 0 1 1 1 0 1 0 1 0 1 0 0 1 0 1 1 0 0\n",
      " 1 0 1 1 0 0 1 0 0 0 0 0 1 0 0 0 1 1 0 0 1 1 0 0 0 0 0 1 1 1 0 1 1 0 0 0 1\n",
      " 1 0 1 1 1 1 0 0 0 0 1 0 0 0 0 0 1 0 0 0 1 0 0 1 0 0 1 0 0 1 1 1 0 0 1 1 1\n",
      " 0 0 1 1 1 0 1 1 0 0 1 0 0 1 0 0 1 0 0 1 1 1 0 1 1 1 0 1 1 1 0 0 1 0 0 1 0\n",
      " 1 0 0 1 1 1 0 0 0 0 1 0 0 0 1 0]\n"
     ]
    }
   ],
   "source": [
    "#4 training the classifier\n",
    "kNN.fit(X_train, y_train)\n",
    "# Predictions of the classifier\n",
    "predictions = kNN.predict(X_test)\n",
    "print(predictions)"
   ]
  },
  {
   "cell_type": "code",
   "execution_count": 45,
   "metadata": {},
   "outputs": [
    {
     "data": {
      "text/plain": [
       "1.0"
      ]
     },
     "execution_count": 45,
     "metadata": {},
     "output_type": "execute_result"
    }
   ],
   "source": [
    "#5 precision accuracy of custom KNN\n",
    "precision_score(y_test, predictions)"
   ]
  },
  {
   "cell_type": "code",
   "execution_count": 46,
   "metadata": {},
   "outputs": [
    {
     "data": {
      "text/plain": [
       "Text(0, 0.5, 'Class')"
      ]
     },
     "execution_count": 46,
     "metadata": {},
     "output_type": "execute_result"
    },
    {
     "data": {
      "image/png": "[encoded data removed]",
      "text/plain": [
       "<Figure size 432x288 with 1 Axes>"
      ]
     },
     "metadata": {},
     "output_type": "display_data"
    }
   ],
   "source": [
    "#6 Data visualizing using matplotlib\n",
    "x = df['variance']+df['skewness']+df['curtosis']+df['entropy']\n",
    "y = df['class']\n",
    "plt.scatter(x, y, color='black', alpha=0.2)\n",
    "plt.xlabel(\"Sum of Features value\")\n",
    "plt.ylabel(\"Class\")"
   ]
  },
  {
   "cell_type": "code",
   "execution_count": 47,
   "metadata": {
    "scrolled": false
   },
   "outputs": [
    {
     "data": {
      "text/plain": [
       "Text(0.5, 1.0, 'Counterfeit pie chart')"
      ]
     },
     "execution_count": 47,
     "metadata": {},
     "output_type": "execute_result"
    },
    {
     "data": {
      "image/png": "[encoded data removed]",
      "text/plain": [
       "<Figure size 432x288 with 1 Axes>"
      ]
     },
     "metadata": {},
     "output_type": "display_data"
    }
   ],
   "source": [
    "figpie, axpie = plt.subplots()\n",
    "labels = 'Negative', 'Positive'\n",
    "sizes = df['class'].value_counts().tolist()\n",
    "axpie.pie(sizes, labels=labels, shadow=True)\n",
    "axpie.set_title(\"Counterfeit pie chart\")"
   ]
  },
  {
   "cell_type": "markdown",
   "metadata": {},
   "source": [
    "## E. Analysis of your result\n",
    "### Divide the Data into Features and Labels\n",
    "Machine learning algorithms require data where features and labels are separated from each other. The label means the output class or output category. In our dataset, variance, skew, curtosis, and entropy are features whereas the class column contains the label.\n",
    "### Training and Testing the Algorithm\n",
    "After preprocessing the data, we trained the algorithm using the training set and evaluated the performance of our algorithm on the test set. We used K-Nearest Neighbors which is the most naive used algorithms for machine learning classification problems.\n",
    "### Scatter plot\n",
    "The scatter plot show class variance. It is clear that summation of feature for positive bank note is less relative to negative bank note feature summation.\n",
    "### Pie chart\n",
    "The chart describe the class distribution of negative & posive class amaount. "
   ]
  },
  {
   "cell_type": "markdown",
   "metadata": {},
   "source": [
    "## F. Discussion\n",
    "The data file banknote_authentication.csv is the source of information for the classification problem. The number of instances (rows) in the data set is 1372, and the number of variables (columns) is 5.\n",
    "\n",
    "In that way, this problem has the following variables:\n",
    "\n",
    "- variance_of_wavelet_transformed, used as input.\n",
    "- skewness_of_wavelet_transformed, used as input.\n",
    "- curtosis_of_wavelet_transformed, used as input.\n",
    "- entropy_of_image, used as input.\n",
    "- class, used as target. It can only have two values: 0 (false) or 1 (true).\n",
    "\n",
    "The instances are divided into training, selection and testing subsets. There are 824 instances for training (60%), 274 instances for selection (20%) and 274 instances for testing (20%)."
   ]
  }
 ],
 "metadata": {
  "file_extension": ".py",
  "kernelspec": {
   "display_name": "Python 3.7.0 64-bit",
   "language": "python",
   "name": "python37064bit8a9912b8f41743feab6587cc778f80ec"
  },
  "language_info": {
   "codemirror_mode": {
    "name": "ipython",
    "version": 3
   },
   "file_extension": ".py",
   "mimetype": "text/x-python",
   "name": "python",
   "nbconvert_exporter": "python",
   "pygments_lexer": "ipython3",
   "version": "3.7.0"
  },
  "mimetype": "text/x-python",
  "name": "python",
  "npconvert_exporter": "python",
  "pygments_lexer": "ipython3",
  "version": 3
 },
 "nbformat": 4,
 "nbformat_minor": 2
}
