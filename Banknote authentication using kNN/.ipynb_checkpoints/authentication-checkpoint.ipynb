{
 "cells": [
  {
   "cell_type": "code",
   "execution_count": null,
   "metadata": {},
   "outputs": [],
   "source": []
  },
  {
   "cell_type": "code",
   "execution_count": null,
   "metadata": {},
   "outputs": [],
   "source": [
    "import pandas as pd\n",
    "%matplotlib inline\n",
    "import matplotlib.pyplot as plt\n",
    "plt.style.use('seaborn-whitegrid')\n",
    "import numpy as np\n",
    "from scipy.spatial.distance import euclidean\n",
    "from sklearn.neighbors import KNeighborsClassifier\n",
    "from sklearn.model_selection import train_test_split\n",
    "from sklearn.preprocessing import MinMaxScaler\n",
    "from sklearn.metrics import precision_score, recall_score"
   ]
  },
  {
   "cell_type": "code",
   "execution_count": null,
   "metadata": {},
   "outputs": [],
   "source": [
    "# Creating custom KNN classifier\n",
    "class kNN:\n",
    "    def fit(self, x_train, y_train):\n",
    "        self.x_train = np.array(x_train)\n",
    "        self.y_train = np.array(y_train)\n",
    "    def predict(self, x_test):\n",
    "        x_test = np.array(x_test)\n",
    "        predictions = np.empty(len(x_test), dtype=y_train[0].dtype)\n",
    "        for t, test in enumerate(x_test):\n",
    "            ind = 0 \n",
    "            dis = euclidean(x_test[0] , self.x_train[0])\n",
    "            for i, train in enumerate(self.x_train):\n",
    "                tt_dis = euclidean(test,train)\n",
    "                if tt_dis < dis:\n",
    "                    dis = tt_dis\n",
    "                    ind = i\n",
    "            predictions[t] = self.y_train[ind]\n",
    "        return predictions"
   ]
  },
  {
   "cell_type": "code",
   "execution_count": null,
   "metadata": {},
   "outputs": [],
   "source": [
    "#1 Loading dataset & labeling the features\n",
    "df = pd.read_csv('data_banknote_authentication.txt', \n",
    "    names=['variance', 'skewness', 'curtosis', 'entropy', 'class'])"
   ]
  },
  {
   "cell_type": "code",
   "execution_count": null,
   "metadata": {},
   "outputs": [],
   "source": [
    "#2 Processing data for Spliting & Training\n",
    "X = df[['variance', 'skewness', 'curtosis', 'entropy']]\n",
    "Y = df['class']"
   ]
  },
  {
   "cell_type": "code",
   "execution_count": null,
   "metadata": {},
   "outputs": [],
   "source": [
    "#2 Spliting the data into train, test parts\n",
    "X_train, X_test, y_train, y_test = train_test_split(X, Y, test_size=0.2)"
   ]
  },
  {
   "cell_type": "code",
   "execution_count": null,
   "metadata": {},
   "outputs": [],
   "source": [
    "#3 Scaling data in range(0-1) for better performance/prediction\n",
    "X_train =pd.DataFrame(MinMaxScaler().fit_transform(X_train),columns=X_train.columns)\n",
    "X_test =pd.DataFrame(MinMaxScaler().fit_transform(X_test),columns=X_test.columns)"
   ]
  },
  {
   "cell_type": "code",
   "execution_count": null,
   "metadata": {},
   "outputs": [],
   "source": [
    "#4 importing k-nearest neighbors classifier(Sklearn)\n",
    "KNN = KNeighborsClassifier()"
   ]
  },
  {
   "cell_type": "code",
   "execution_count": null,
   "metadata": {},
   "outputs": [],
   "source": [
    "#4 training the classifier\n",
    "KNN.fit(X_train, y_train)\n",
    "# Predictions of the classifier\n",
    "predictions = KNN.predict(X_test)\n",
    "print(predictions)"
   ]
  },
  {
   "cell_type": "code",
   "execution_count": null,
   "metadata": {},
   "outputs": [],
   "source": [
    "#5 precision accuracy of Sklearn KNN\n",
    "precision_score(y_test, predictions)"
   ]
  },
  {
   "cell_type": "code",
   "execution_count": null,
   "metadata": {},
   "outputs": [],
   "source": [
    "# recall_score of KNN\n",
    "recall_score(y_test, predictions)"
   ]
  },
  {
   "cell_type": "code",
   "execution_count": null,
   "metadata": {},
   "outputs": [],
   "source": [
    "#4 importing k-nearest neighbors classifier(Custom)\n",
    "kNN = kNN()"
   ]
  },
  {
   "cell_type": "code",
   "execution_count": null,
   "metadata": {},
   "outputs": [],
   "source": [
    "#4 training the classifier\n",
    "kNN.fit(X_train, y_train)\n",
    "# Predictions of the classifier\n",
    "predictions = kNN.predict(X_test)\n",
    "print(predictions)"
   ]
  },
  {
   "cell_type": "code",
   "execution_count": null,
   "metadata": {},
   "outputs": [],
   "source": [
    "#5 precision accuracy of custom KNN\n",
    "precision_score(y_test, predictions)"
   ]
  },
  {
   "cell_type": "code",
   "execution_count": null,
   "metadata": {},
   "outputs": [],
   "source": [
    "#6 Data visualizing using matplotlib\n",
    "x = df['variance']+df['skewness']+df['curtosis']+df['entropy']\n",
    "y = df['class']\n",
    "plt.scatter(x, y, color='black', alpha=0.2)\n",
    "plt.xlabel(\"Sum of Features value\")\n",
    "plt.ylabel(\"Class\")"
   ]
  },
  {
   "cell_type": "code",
   "execution_count": null,
   "metadata": {},
   "outputs": [],
   "source": [
    "figpie, axpie = plt.subplots()\n",
    "labels = 'Negative', 'Positive'\n",
    "sizes = df['class'].value_counts().tolist()\n",
    "axpie.pie(sizes, labels=labels, shadow=True)\n",
    "axpie.set_title(\"Counterfeit pie chart\")"
   ]
  }
 ],
 "metadata": {
  "file_extension": ".py",
  "kernelspec": {
   "display_name": "Python 3.7.0 64-bit",
   "language": "python",
   "name": "python37064bit8a9912b8f41743feab6587cc778f80ec"
  },
  "language_info": {
   "codemirror_mode": {
    "name": "ipython",
    "version": 3
   },
   "file_extension": ".py",
   "mimetype": "text/x-python",
   "name": "python",
   "nbconvert_exporter": "python",
   "pygments_lexer": "ipython3",
   "version": "3.7.0"
  },
  "mimetype": "text/x-python",
  "name": "python",
  "npconvert_exporter": "python",
  "pygments_lexer": "ipython3",
  "version": 3
 },
 "nbformat": 4,
 "nbformat_minor": 2
}
